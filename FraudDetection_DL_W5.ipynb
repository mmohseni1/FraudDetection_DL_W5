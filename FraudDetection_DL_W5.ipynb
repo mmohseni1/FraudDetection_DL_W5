{
 "cells": [
  {
   "cell_type": "markdown",
   "metadata": {
    "id": "S2UUEuSlneZ3"
   },
   "source": [
    "Here the goal is to find the fraudulent credit/debit card transactions. Everything except the time and amount has been reduced by a Principle Component Analysis (PCA) for privacy concerns."
   ]
  },
  {
   "cell_type": "code",
   "execution_count": 39,
   "metadata": {
    "id": "aa15g5EWc4Od"
   },
   "outputs": [],
   "source": [
    "import pandas as pd\n",
    "import numpy as np\n",
    "import matplotlib.pyplot as plt\n",
    "import seaborn as sns\n",
    "from sklearn.model_selection import train_test_split\n",
    "from sklearn.metrics import confusion_matrix\n",
    "from sklearn.preprocessing import StandardScaler\n",
    "from keras.models import Sequential\n",
    "from keras.layers import Dense"
   ]
  },
  {
   "cell_type": "code",
   "execution_count": 40,
   "metadata": {
    "colab": {
     "base_uri": "https://localhost:8080/",
     "height": 241
    },
    "id": "N5uOCqAWc8TJ",
    "outputId": "79cbab9d-4db4-4a48-d802-3c38fe506a3a"
   },
   "outputs": [
    {
     "name": "stdout",
     "output_type": "stream",
     "text": [
      "Drive already mounted at /content/drive; to attempt to forcibly remount, call drive.mount(\"/content/drive\", force_remount=True).\n"
     ]
    },
    {
     "data": {
      "text/html": [
       "<div>\n",
       "<style scoped>\n",
       "    .dataframe tbody tr th:only-of-type {\n",
       "        vertical-align: middle;\n",
       "    }\n",
       "\n",
       "    .dataframe tbody tr th {\n",
       "        vertical-align: top;\n",
       "    }\n",
       "\n",
       "    .dataframe thead th {\n",
       "        text-align: right;\n",
       "    }\n",
       "</style>\n",
       "<table border=\"1\" class=\"dataframe\">\n",
       "  <thead>\n",
       "    <tr style=\"text-align: right;\">\n",
       "      <th></th>\n",
       "      <th>Time</th>\n",
       "      <th>V1</th>\n",
       "      <th>V2</th>\n",
       "      <th>V3</th>\n",
       "      <th>V4</th>\n",
       "      <th>V5</th>\n",
       "      <th>V6</th>\n",
       "      <th>V7</th>\n",
       "      <th>V8</th>\n",
       "      <th>V9</th>\n",
       "      <th>V10</th>\n",
       "      <th>V11</th>\n",
       "      <th>V12</th>\n",
       "      <th>V13</th>\n",
       "      <th>V14</th>\n",
       "      <th>V15</th>\n",
       "      <th>V16</th>\n",
       "      <th>V17</th>\n",
       "      <th>V18</th>\n",
       "      <th>V19</th>\n",
       "      <th>V20</th>\n",
       "      <th>V21</th>\n",
       "      <th>V22</th>\n",
       "      <th>V23</th>\n",
       "      <th>V24</th>\n",
       "      <th>V25</th>\n",
       "      <th>V26</th>\n",
       "      <th>V27</th>\n",
       "      <th>V28</th>\n",
       "      <th>Amount</th>\n",
       "      <th>Class</th>\n",
       "    </tr>\n",
       "  </thead>\n",
       "  <tbody>\n",
       "    <tr>\n",
       "      <th>0</th>\n",
       "      <td>0.0</td>\n",
       "      <td>-1.359807</td>\n",
       "      <td>-0.072781</td>\n",
       "      <td>2.536347</td>\n",
       "      <td>1.378155</td>\n",
       "      <td>-0.338321</td>\n",
       "      <td>0.462388</td>\n",
       "      <td>0.239599</td>\n",
       "      <td>0.098698</td>\n",
       "      <td>0.363787</td>\n",
       "      <td>0.090794</td>\n",
       "      <td>-0.551600</td>\n",
       "      <td>-0.617801</td>\n",
       "      <td>-0.991390</td>\n",
       "      <td>-0.311169</td>\n",
       "      <td>1.468177</td>\n",
       "      <td>-0.470401</td>\n",
       "      <td>0.207971</td>\n",
       "      <td>0.025791</td>\n",
       "      <td>0.403993</td>\n",
       "      <td>0.251412</td>\n",
       "      <td>-0.018307</td>\n",
       "      <td>0.277838</td>\n",
       "      <td>-0.110474</td>\n",
       "      <td>0.066928</td>\n",
       "      <td>0.128539</td>\n",
       "      <td>-0.189115</td>\n",
       "      <td>0.133558</td>\n",
       "      <td>-0.021053</td>\n",
       "      <td>149.62</td>\n",
       "      <td>0</td>\n",
       "    </tr>\n",
       "    <tr>\n",
       "      <th>1</th>\n",
       "      <td>0.0</td>\n",
       "      <td>1.191857</td>\n",
       "      <td>0.266151</td>\n",
       "      <td>0.166480</td>\n",
       "      <td>0.448154</td>\n",
       "      <td>0.060018</td>\n",
       "      <td>-0.082361</td>\n",
       "      <td>-0.078803</td>\n",
       "      <td>0.085102</td>\n",
       "      <td>-0.255425</td>\n",
       "      <td>-0.166974</td>\n",
       "      <td>1.612727</td>\n",
       "      <td>1.065235</td>\n",
       "      <td>0.489095</td>\n",
       "      <td>-0.143772</td>\n",
       "      <td>0.635558</td>\n",
       "      <td>0.463917</td>\n",
       "      <td>-0.114805</td>\n",
       "      <td>-0.183361</td>\n",
       "      <td>-0.145783</td>\n",
       "      <td>-0.069083</td>\n",
       "      <td>-0.225775</td>\n",
       "      <td>-0.638672</td>\n",
       "      <td>0.101288</td>\n",
       "      <td>-0.339846</td>\n",
       "      <td>0.167170</td>\n",
       "      <td>0.125895</td>\n",
       "      <td>-0.008983</td>\n",
       "      <td>0.014724</td>\n",
       "      <td>2.69</td>\n",
       "      <td>0</td>\n",
       "    </tr>\n",
       "    <tr>\n",
       "      <th>2</th>\n",
       "      <td>1.0</td>\n",
       "      <td>-1.358354</td>\n",
       "      <td>-1.340163</td>\n",
       "      <td>1.773209</td>\n",
       "      <td>0.379780</td>\n",
       "      <td>-0.503198</td>\n",
       "      <td>1.800499</td>\n",
       "      <td>0.791461</td>\n",
       "      <td>0.247676</td>\n",
       "      <td>-1.514654</td>\n",
       "      <td>0.207643</td>\n",
       "      <td>0.624501</td>\n",
       "      <td>0.066084</td>\n",
       "      <td>0.717293</td>\n",
       "      <td>-0.165946</td>\n",
       "      <td>2.345865</td>\n",
       "      <td>-2.890083</td>\n",
       "      <td>1.109969</td>\n",
       "      <td>-0.121359</td>\n",
       "      <td>-2.261857</td>\n",
       "      <td>0.524980</td>\n",
       "      <td>0.247998</td>\n",
       "      <td>0.771679</td>\n",
       "      <td>0.909412</td>\n",
       "      <td>-0.689281</td>\n",
       "      <td>-0.327642</td>\n",
       "      <td>-0.139097</td>\n",
       "      <td>-0.055353</td>\n",
       "      <td>-0.059752</td>\n",
       "      <td>378.66</td>\n",
       "      <td>0</td>\n",
       "    </tr>\n",
       "    <tr>\n",
       "      <th>3</th>\n",
       "      <td>1.0</td>\n",
       "      <td>-0.966272</td>\n",
       "      <td>-0.185226</td>\n",
       "      <td>1.792993</td>\n",
       "      <td>-0.863291</td>\n",
       "      <td>-0.010309</td>\n",
       "      <td>1.247203</td>\n",
       "      <td>0.237609</td>\n",
       "      <td>0.377436</td>\n",
       "      <td>-1.387024</td>\n",
       "      <td>-0.054952</td>\n",
       "      <td>-0.226487</td>\n",
       "      <td>0.178228</td>\n",
       "      <td>0.507757</td>\n",
       "      <td>-0.287924</td>\n",
       "      <td>-0.631418</td>\n",
       "      <td>-1.059647</td>\n",
       "      <td>-0.684093</td>\n",
       "      <td>1.965775</td>\n",
       "      <td>-1.232622</td>\n",
       "      <td>-0.208038</td>\n",
       "      <td>-0.108300</td>\n",
       "      <td>0.005274</td>\n",
       "      <td>-0.190321</td>\n",
       "      <td>-1.175575</td>\n",
       "      <td>0.647376</td>\n",
       "      <td>-0.221929</td>\n",
       "      <td>0.062723</td>\n",
       "      <td>0.061458</td>\n",
       "      <td>123.50</td>\n",
       "      <td>0</td>\n",
       "    </tr>\n",
       "    <tr>\n",
       "      <th>4</th>\n",
       "      <td>2.0</td>\n",
       "      <td>-1.158233</td>\n",
       "      <td>0.877737</td>\n",
       "      <td>1.548718</td>\n",
       "      <td>0.403034</td>\n",
       "      <td>-0.407193</td>\n",
       "      <td>0.095921</td>\n",
       "      <td>0.592941</td>\n",
       "      <td>-0.270533</td>\n",
       "      <td>0.817739</td>\n",
       "      <td>0.753074</td>\n",
       "      <td>-0.822843</td>\n",
       "      <td>0.538196</td>\n",
       "      <td>1.345852</td>\n",
       "      <td>-1.119670</td>\n",
       "      <td>0.175121</td>\n",
       "      <td>-0.451449</td>\n",
       "      <td>-0.237033</td>\n",
       "      <td>-0.038195</td>\n",
       "      <td>0.803487</td>\n",
       "      <td>0.408542</td>\n",
       "      <td>-0.009431</td>\n",
       "      <td>0.798278</td>\n",
       "      <td>-0.137458</td>\n",
       "      <td>0.141267</td>\n",
       "      <td>-0.206010</td>\n",
       "      <td>0.502292</td>\n",
       "      <td>0.219422</td>\n",
       "      <td>0.215153</td>\n",
       "      <td>69.99</td>\n",
       "      <td>0</td>\n",
       "    </tr>\n",
       "  </tbody>\n",
       "</table>\n",
       "</div>"
      ],
      "text/plain": [
       "   Time        V1        V2        V3  ...       V27       V28  Amount  Class\n",
       "0   0.0 -1.359807 -0.072781  2.536347  ...  0.133558 -0.021053  149.62      0\n",
       "1   0.0  1.191857  0.266151  0.166480  ... -0.008983  0.014724    2.69      0\n",
       "2   1.0 -1.358354 -1.340163  1.773209  ... -0.055353 -0.059752  378.66      0\n",
       "3   1.0 -0.966272 -0.185226  1.792993  ...  0.062723  0.061458  123.50      0\n",
       "4   2.0 -1.158233  0.877737  1.548718  ...  0.219422  0.215153   69.99      0\n",
       "\n",
       "[5 rows x 31 columns]"
      ]
     },
     "execution_count": 40,
     "metadata": {
      "tags": []
     },
     "output_type": "execute_result"
    }
   ],
   "source": [
    "from google.colab import drive\n",
    "drive.mount('/content/drive')\n",
    "df = pd.read_csv(\"/content/drive/My Drive/Colab Notebooks/creditcard.csv\") \n",
    "df.head()"
   ]
  },
  {
   "cell_type": "code",
   "execution_count": 41,
   "metadata": {
    "colab": {
     "base_uri": "https://localhost:8080/"
    },
    "id": "2OXntWfkc12T",
    "outputId": "0dd3e9dc-4c1d-4f79-e62c-7152c82d5320"
   },
   "outputs": [
    {
     "name": "stdout",
     "output_type": "stream",
     "text": [
      "(284807, 31)\n",
      "<class 'pandas.core.frame.DataFrame'>\n",
      "RangeIndex: 284807 entries, 0 to 284806\n",
      "Data columns (total 31 columns):\n",
      " #   Column  Non-Null Count   Dtype  \n",
      "---  ------  --------------   -----  \n",
      " 0   Time    284807 non-null  float64\n",
      " 1   V1      284807 non-null  float64\n",
      " 2   V2      284807 non-null  float64\n",
      " 3   V3      284807 non-null  float64\n",
      " 4   V4      284807 non-null  float64\n",
      " 5   V5      284807 non-null  float64\n",
      " 6   V6      284807 non-null  float64\n",
      " 7   V7      284807 non-null  float64\n",
      " 8   V8      284807 non-null  float64\n",
      " 9   V9      284807 non-null  float64\n",
      " 10  V10     284807 non-null  float64\n",
      " 11  V11     284807 non-null  float64\n",
      " 12  V12     284807 non-null  float64\n",
      " 13  V13     284807 non-null  float64\n",
      " 14  V14     284807 non-null  float64\n",
      " 15  V15     284807 non-null  float64\n",
      " 16  V16     284807 non-null  float64\n",
      " 17  V17     284807 non-null  float64\n",
      " 18  V18     284807 non-null  float64\n",
      " 19  V19     284807 non-null  float64\n",
      " 20  V20     284807 non-null  float64\n",
      " 21  V21     284807 non-null  float64\n",
      " 22  V22     284807 non-null  float64\n",
      " 23  V23     284807 non-null  float64\n",
      " 24  V24     284807 non-null  float64\n",
      " 25  V25     284807 non-null  float64\n",
      " 26  V26     284807 non-null  float64\n",
      " 27  V27     284807 non-null  float64\n",
      " 28  V28     284807 non-null  float64\n",
      " 29  Amount  284807 non-null  float64\n",
      " 30  Class   284807 non-null  int64  \n",
      "dtypes: float64(30), int64(1)\n",
      "memory usage: 67.4 MB\n",
      "None\n",
      "                Time            V1  ...         Amount          Class\n",
      "count  284807.000000  2.848070e+05  ...  284807.000000  284807.000000\n",
      "mean    94813.859575  3.919560e-15  ...      88.349619       0.001727\n",
      "std     47488.145955  1.958696e+00  ...     250.120109       0.041527\n",
      "min         0.000000 -5.640751e+01  ...       0.000000       0.000000\n",
      "25%     54201.500000 -9.203734e-01  ...       5.600000       0.000000\n",
      "50%     84692.000000  1.810880e-02  ...      22.000000       0.000000\n",
      "75%    139320.500000  1.315642e+00  ...      77.165000       0.000000\n",
      "max    172792.000000  2.454930e+00  ...   25691.160000       1.000000\n",
      "\n",
      "[8 rows x 31 columns]\n"
     ]
    }
   ],
   "source": [
    "print(df.shape)\n",
    "print(df.info())\n",
    "print(df.describe())"
   ]
  },
  {
   "cell_type": "markdown",
   "metadata": {
    "id": "1mBfyx-oneaD"
   },
   "source": [
    "Visualize the data to investigate the frequency of the normal and fraudulent ones"
   ]
  },
  {
   "cell_type": "code",
   "execution_count": 42,
   "metadata": {
    "colab": {
     "base_uri": "https://localhost:8080/",
     "height": 295
    },
    "id": "cH4jRTFsneaF",
    "outputId": "460dd9d6-7e1a-4a73-b556-56fb36765b77"
   },
   "outputs": [
    {
     "data": {
      "image/png": "[encoded data removed]",
      "text/plain": [
       "<Figure size 432x288 with 1 Axes>"
      ]
     },
     "metadata": {
      "needs_background": "light",
      "tags": []
     },
     "output_type": "display_data"
    }
   ],
   "source": [
    "df['Class'].hist()\n",
    "plt.xticks(range(2), ['Normal', 'Fraud'])\n",
    "plt.title(\"Frequency by observation number\")\n",
    "plt.xlabel(\"Class\")\n",
    "plt.ylabel(\"Number of Observations\");"
   ]
  },
  {
   "cell_type": "markdown",
   "metadata": {
    "id": "E6KrdTKlneaH"
   },
   "source": [
    "Split data to normal and fraudulent"
   ]
  },
  {
   "cell_type": "code",
   "execution_count": 43,
   "metadata": {
    "colab": {
     "base_uri": "https://localhost:8080/"
    },
    "id": "J5Zr6EnzneaH",
    "outputId": "23922c9f-770a-45f3-ea4a-984883d6be71"
   },
   "outputs": [
    {
     "name": "stdout",
     "output_type": "stream",
     "text": [
      "(284315, 31)\n"
     ]
    },
    {
     "data": {
      "text/plain": [
       "(492, 31)"
      ]
     },
     "execution_count": 43,
     "metadata": {
      "tags": []
     },
     "output_type": "execute_result"
    }
   ],
   "source": [
    "normal_df = df[df['Class']==0]\n",
    "print(normal_df.shape)\n",
    "fraud_df = df[df['Class']==1]\n",
    "fraud_df.shape"
   ]
  },
  {
   "cell_type": "code",
   "execution_count": 44,
   "metadata": {
    "colab": {
     "base_uri": "https://localhost:8080/"
    },
    "id": "mQJuz879neaI",
    "outputId": "cf7864d4-36ff-45ae-fe34-0a093efdb7c5"
   },
   "outputs": [
    {
     "data": {
      "text/plain": [
       "count    284315.000000\n",
       "mean         88.291022\n",
       "std         250.105092\n",
       "min           0.000000\n",
       "25%           5.650000\n",
       "50%          22.000000\n",
       "75%          77.050000\n",
       "max       25691.160000\n",
       "Name: Amount, dtype: float64"
      ]
     },
     "execution_count": 44,
     "metadata": {
      "tags": []
     },
     "output_type": "execute_result"
    }
   ],
   "source": [
    "normal_df.Amount.describe()"
   ]
  },
  {
   "cell_type": "code",
   "execution_count": 45,
   "metadata": {
    "colab": {
     "base_uri": "https://localhost:8080/"
    },
    "id": "Ify7dBhMlUJJ",
    "outputId": "322505ad-457e-4bbc-8bd5-a143555a206d"
   },
   "outputs": [
    {
     "data": {
      "text/plain": [
       "count     492.000000\n",
       "mean      122.211321\n",
       "std       256.683288\n",
       "min         0.000000\n",
       "25%         1.000000\n",
       "50%         9.250000\n",
       "75%       105.890000\n",
       "max      2125.870000\n",
       "Name: Amount, dtype: float64"
      ]
     },
     "execution_count": 45,
     "metadata": {
      "tags": []
     },
     "output_type": "execute_result"
    }
   ],
   "source": [
    "fraud_df.Amount.describe()"
   ]
  },
  {
   "cell_type": "markdown",
   "metadata": {
    "id": "KWXSS7x6neaI"
   },
   "source": [
    "Normalize the data and generate train and test datasets"
   ]
  },
  {
   "cell_type": "code",
   "execution_count": 46,
   "metadata": {
    "id": "9Q4JB0vVneaJ"
   },
   "outputs": [],
   "source": [
    "train, test = train_test_split(df, test_size=0.3, random_state=123)\n",
    "train=train[train['Class']==0]\n",
    "train.shape\n",
    "x_train = train.drop(['Class'], axis=1)\n",
    "y_test = test['Class']\n",
    "x_test = test.drop(['Class'], axis=1)\n",
    "stdScaler=StandardScaler()\n",
    "x_train = stdScaler.fit_transform(x_train)\n",
    "x_test = stdScaler.transform(x_test)"
   ]
  },
  {
   "cell_type": "markdown",
   "metadata": {
    "id": "VN9qG9B9neaJ"
   },
   "source": [
    "Generate the auto-encoder model"
   ]
  },
  {
   "cell_type": "code",
   "execution_count": 47,
   "metadata": {
    "colab": {
     "base_uri": "https://localhost:8080/"
    },
    "id": "ZFQUa47QneaK",
    "outputId": "0bd4e891-c06c-455b-fd9d-3c6095f66bcd"
   },
   "outputs": [
    {
     "name": "stdout",
     "output_type": "stream",
     "text": [
      "Model: \"sequential_2\"\n",
      "_________________________________________________________________\n",
      "Layer (type)                 Output Shape              Param #   \n",
      "=================================================================\n",
      "dense_8 (Dense)              (None, 15)                465       \n",
      "_________________________________________________________________\n",
      "dense_9 (Dense)              (None, 7)                 112       \n",
      "_________________________________________________________________\n",
      "dense_10 (Dense)             (None, 15)                120       \n",
      "_________________________________________________________________\n",
      "dense_11 (Dense)             (None, 30)                480       \n",
      "=================================================================\n",
      "Total params: 1,177\n",
      "Trainable params: 1,177\n",
      "Non-trainable params: 0\n",
      "_________________________________________________________________\n"
     ]
    }
   ],
   "source": [
    "model = Sequential()\n",
    "model.add(Dense(15, input_dim= 30))\n",
    "model.add(Dense(7))\n",
    "model.add(Dense(15))\n",
    "model.add(Dense(30))\n",
    "model.summary()"
   ]
  },
  {
   "cell_type": "markdown",
   "metadata": {
    "id": "bZwsWrc5neaL"
   },
   "source": [
    "Fit the model"
   ]
  },
  {
   "cell_type": "code",
   "execution_count": 48,
   "metadata": {
    "id": "OKZ5zmu3neaL"
   },
   "outputs": [],
   "source": [
    "model.compile(metrics=['accuracy'],\n",
    "                    loss='mean_squared_error',\n",
    "                    optimizer='adam')"
   ]
  },
  {
   "cell_type": "code",
   "execution_count": 49,
   "metadata": {
    "colab": {
     "base_uri": "https://localhost:8080/"
    },
    "id": "HmQad8137AkY",
    "outputId": "f992b199-d692-4730-bf8c-b173c9bf4e2d"
   },
   "outputs": [
    {
     "name": "stdout",
     "output_type": "stream",
     "text": [
      "Epoch 1/100\n",
      "3110/3110 [==============================] - 7s 2ms/step - loss: 0.8322 - accuracy: 0.2055 - val_loss: 0.7246 - val_accuracy: 0.2614\n",
      "Epoch 2/100\n",
      "3110/3110 [==============================] - 6s 2ms/step - loss: 0.7047 - accuracy: 0.2630 - val_loss: 0.7209 - val_accuracy: 0.2772\n",
      "Epoch 3/100\n",
      "3110/3110 [==============================] - 6s 2ms/step - loss: 0.6927 - accuracy: 0.2791 - val_loss: 0.7202 - val_accuracy: 0.2934\n",
      "Epoch 4/100\n",
      "3110/3110 [==============================] - 6s 2ms/step - loss: 0.6893 - accuracy: 0.2915 - val_loss: 0.7178 - val_accuracy: 0.2947\n",
      "Epoch 5/100\n",
      "3110/3110 [==============================] - 7s 2ms/step - loss: 0.6956 - accuracy: 0.2927 - val_loss: 0.7195 - val_accuracy: 0.2963\n",
      "Epoch 6/100\n",
      "3110/3110 [==============================] - 6s 2ms/step - loss: 0.6971 - accuracy: 0.2933 - val_loss: 0.7184 - val_accuracy: 0.2947\n",
      "Epoch 7/100\n",
      "3110/3110 [==============================] - 6s 2ms/step - loss: 0.6911 - accuracy: 0.2922 - val_loss: 0.7218 - val_accuracy: 0.2997\n",
      "Epoch 8/100\n",
      "3110/3110 [==============================] - 6s 2ms/step - loss: 0.6928 - accuracy: 0.2951 - val_loss: 0.7178 - val_accuracy: 0.2934\n",
      "Epoch 9/100\n",
      "3110/3110 [==============================] - 6s 2ms/step - loss: 0.6890 - accuracy: 0.2941 - val_loss: 0.7171 - val_accuracy: 0.2958\n",
      "Epoch 10/100\n",
      "3110/3110 [==============================] - 6s 2ms/step - loss: 0.7105 - accuracy: 0.2949 - val_loss: 0.7171 - val_accuracy: 0.2945\n",
      "Epoch 11/100\n",
      "3110/3110 [==============================] - 6s 2ms/step - loss: 0.6899 - accuracy: 0.2934 - val_loss: 0.7172 - val_accuracy: 0.2982\n",
      "Epoch 12/100\n",
      "3110/3110 [==============================] - 7s 2ms/step - loss: 0.6835 - accuracy: 0.2940 - val_loss: 0.7192 - val_accuracy: 0.2926\n",
      "Epoch 13/100\n",
      "3110/3110 [==============================] - 7s 2ms/step - loss: 0.6941 - accuracy: 0.2925 - val_loss: 0.7168 - val_accuracy: 0.2956\n",
      "Epoch 14/100\n",
      "3110/3110 [==============================] - 7s 2ms/step - loss: 0.6984 - accuracy: 0.2935 - val_loss: 0.7169 - val_accuracy: 0.2949\n",
      "Epoch 15/100\n",
      "3110/3110 [==============================] - 7s 2ms/step - loss: 0.6881 - accuracy: 0.2948 - val_loss: 0.7177 - val_accuracy: 0.2934\n",
      "Epoch 16/100\n",
      "3110/3110 [==============================] - 7s 2ms/step - loss: 0.7030 - accuracy: 0.2940 - val_loss: 0.7169 - val_accuracy: 0.2939\n",
      "Epoch 17/100\n",
      "3110/3110 [==============================] - 7s 2ms/step - loss: 0.6887 - accuracy: 0.2938 - val_loss: 0.7168 - val_accuracy: 0.2955\n",
      "Epoch 18/100\n",
      "3110/3110 [==============================] - 6s 2ms/step - loss: 0.6867 - accuracy: 0.2955 - val_loss: 0.7176 - val_accuracy: 0.2953\n",
      "Epoch 19/100\n",
      "3110/3110 [==============================] - 7s 2ms/step - loss: 0.6933 - accuracy: 0.2949 - val_loss: 0.7174 - val_accuracy: 0.2968\n",
      "Epoch 20/100\n",
      "3110/3110 [==============================] - 7s 2ms/step - loss: 0.6946 - accuracy: 0.2951 - val_loss: 0.7175 - val_accuracy: 0.2951\n",
      "Epoch 21/100\n",
      "3110/3110 [==============================] - 7s 2ms/step - loss: 0.6862 - accuracy: 0.2940 - val_loss: 0.7172 - val_accuracy: 0.2964\n",
      "Epoch 22/100\n",
      "3110/3110 [==============================] - 7s 2ms/step - loss: 0.6932 - accuracy: 0.2930 - val_loss: 0.7171 - val_accuracy: 0.2962\n",
      "Epoch 23/100\n",
      "3110/3110 [==============================] - 6s 2ms/step - loss: 0.6918 - accuracy: 0.2948 - val_loss: 0.7171 - val_accuracy: 0.2955\n",
      "Epoch 24/100\n",
      "3110/3110 [==============================] - 6s 2ms/step - loss: 0.6773 - accuracy: 0.2944 - val_loss: 0.7173 - val_accuracy: 0.2966\n",
      "Epoch 25/100\n",
      "3110/3110 [==============================] - 6s 2ms/step - loss: 0.6879 - accuracy: 0.2956 - val_loss: 0.7174 - val_accuracy: 0.2941\n",
      "Epoch 26/100\n",
      "3110/3110 [==============================] - 6s 2ms/step - loss: 0.6945 - accuracy: 0.2927 - val_loss: 0.7174 - val_accuracy: 0.2966\n",
      "Epoch 27/100\n",
      "3110/3110 [==============================] - 7s 2ms/step - loss: 0.6900 - accuracy: 0.2936 - val_loss: 0.7174 - val_accuracy: 0.2960\n",
      "Epoch 28/100\n",
      "3110/3110 [==============================] - 7s 2ms/step - loss: 0.7090 - accuracy: 0.2948 - val_loss: 0.7173 - val_accuracy: 0.2951\n",
      "Epoch 29/100\n",
      "3110/3110 [==============================] - 6s 2ms/step - loss: 0.6919 - accuracy: 0.2957 - val_loss: 0.7170 - val_accuracy: 0.2945\n",
      "Epoch 30/100\n",
      "3110/3110 [==============================] - 6s 2ms/step - loss: 0.6978 - accuracy: 0.2922 - val_loss: 0.7169 - val_accuracy: 0.2932\n",
      "Epoch 31/100\n",
      "3110/3110 [==============================] - 6s 2ms/step - loss: 0.6861 - accuracy: 0.2925 - val_loss: 0.7169 - val_accuracy: 0.2948\n",
      "Epoch 32/100\n",
      "3110/3110 [==============================] - 6s 2ms/step - loss: 0.6815 - accuracy: 0.2947 - val_loss: 0.7171 - val_accuracy: 0.2930\n",
      "Epoch 33/100\n",
      "3110/3110 [==============================] - 6s 2ms/step - loss: 0.6928 - accuracy: 0.2920 - val_loss: 0.7172 - val_accuracy: 0.2941\n",
      "Epoch 34/100\n",
      "3110/3110 [==============================] - 6s 2ms/step - loss: 0.6897 - accuracy: 0.2924 - val_loss: 0.7168 - val_accuracy: 0.2934\n",
      "Epoch 35/100\n",
      "3110/3110 [==============================] - 6s 2ms/step - loss: 0.6932 - accuracy: 0.2922 - val_loss: 0.7171 - val_accuracy: 0.2925\n",
      "Epoch 36/100\n",
      "3110/3110 [==============================] - 7s 2ms/step - loss: 0.6829 - accuracy: 0.2928 - val_loss: 0.7171 - val_accuracy: 0.2908\n",
      "Epoch 37/100\n",
      "3110/3110 [==============================] - 6s 2ms/step - loss: 0.6798 - accuracy: 0.2910 - val_loss: 0.7172 - val_accuracy: 0.2912\n",
      "Epoch 38/100\n",
      "3110/3110 [==============================] - 7s 2ms/step - loss: 0.6869 - accuracy: 0.2933 - val_loss: 0.7174 - val_accuracy: 0.2909\n",
      "Epoch 39/100\n",
      "3110/3110 [==============================] - 6s 2ms/step - loss: 0.7041 - accuracy: 0.2894 - val_loss: 0.7169 - val_accuracy: 0.2916\n",
      "Epoch 40/100\n",
      "3110/3110 [==============================] - 6s 2ms/step - loss: 0.6915 - accuracy: 0.2891 - val_loss: 0.7170 - val_accuracy: 0.2915\n",
      "Epoch 41/100\n",
      "3110/3110 [==============================] - 7s 2ms/step - loss: 0.6942 - accuracy: 0.2921 - val_loss: 0.7175 - val_accuracy: 0.2915\n",
      "Epoch 42/100\n",
      "3110/3110 [==============================] - 6s 2ms/step - loss: 0.6822 - accuracy: 0.2926 - val_loss: 0.7170 - val_accuracy: 0.2933\n",
      "Epoch 43/100\n",
      "3110/3110 [==============================] - 6s 2ms/step - loss: 0.6923 - accuracy: 0.2917 - val_loss: 0.7170 - val_accuracy: 0.2927\n",
      "Epoch 44/100\n",
      "3110/3110 [==============================] - 6s 2ms/step - loss: 0.6879 - accuracy: 0.2912 - val_loss: 0.7171 - val_accuracy: 0.2907\n",
      "Epoch 45/100\n",
      "3110/3110 [==============================] - 7s 2ms/step - loss: 0.6928 - accuracy: 0.2909 - val_loss: 0.7176 - val_accuracy: 0.2950\n",
      "Epoch 46/100\n",
      "3110/3110 [==============================] - 6s 2ms/step - loss: 0.6922 - accuracy: 0.2929 - val_loss: 0.7172 - val_accuracy: 0.2934\n",
      "Epoch 47/100\n",
      "3110/3110 [==============================] - 7s 2ms/step - loss: 0.7075 - accuracy: 0.2917 - val_loss: 0.7169 - val_accuracy: 0.2936\n",
      "Epoch 48/100\n",
      "3110/3110 [==============================] - 7s 2ms/step - loss: 0.6883 - accuracy: 0.2914 - val_loss: 0.7174 - val_accuracy: 0.2937\n",
      "Epoch 49/100\n",
      "3110/3110 [==============================] - 7s 2ms/step - loss: 0.7080 - accuracy: 0.2907 - val_loss: 0.7172 - val_accuracy: 0.2900\n",
      "Epoch 50/100\n",
      "3110/3110 [==============================] - 7s 2ms/step - loss: 0.6857 - accuracy: 0.2900 - val_loss: 0.7170 - val_accuracy: 0.2910\n",
      "Epoch 51/100\n",
      "3110/3110 [==============================] - 7s 2ms/step - loss: 0.6917 - accuracy: 0.2911 - val_loss: 0.7173 - val_accuracy: 0.2913\n",
      "Epoch 52/100\n",
      "3110/3110 [==============================] - 7s 2ms/step - loss: 0.6927 - accuracy: 0.2892 - val_loss: 0.7171 - val_accuracy: 0.2903\n",
      "Epoch 53/100\n",
      "3110/3110 [==============================] - 6s 2ms/step - loss: 0.7012 - accuracy: 0.2896 - val_loss: 0.7169 - val_accuracy: 0.2919\n",
      "Epoch 54/100\n",
      "3110/3110 [==============================] - 7s 2ms/step - loss: 0.6899 - accuracy: 0.2884 - val_loss: 0.7174 - val_accuracy: 0.2925\n",
      "Epoch 55/100\n",
      "3110/3110 [==============================] - 7s 2ms/step - loss: 0.6901 - accuracy: 0.2908 - val_loss: 0.7169 - val_accuracy: 0.2914\n",
      "Epoch 56/100\n",
      "3110/3110 [==============================] - 7s 2ms/step - loss: 0.6960 - accuracy: 0.2918 - val_loss: 0.7173 - val_accuracy: 0.2919\n",
      "Epoch 57/100\n",
      "3110/3110 [==============================] - 6s 2ms/step - loss: 0.6794 - accuracy: 0.2918 - val_loss: 0.7175 - val_accuracy: 0.2908\n",
      "Epoch 58/100\n",
      "3110/3110 [==============================] - 6s 2ms/step - loss: 0.6996 - accuracy: 0.2907 - val_loss: 0.7174 - val_accuracy: 0.2911\n",
      "Epoch 59/100\n",
      "3110/3110 [==============================] - 7s 2ms/step - loss: 0.6808 - accuracy: 0.2923 - val_loss: 0.7205 - val_accuracy: 0.2908\n",
      "Epoch 60/100\n",
      "3110/3110 [==============================] - 7s 2ms/step - loss: 0.6936 - accuracy: 0.2878 - val_loss: 0.7176 - val_accuracy: 0.2930\n",
      "Epoch 61/100\n",
      "3110/3110 [==============================] - 7s 2ms/step - loss: 0.7071 - accuracy: 0.2899 - val_loss: 0.7171 - val_accuracy: 0.2909\n",
      "Epoch 62/100\n",
      "3110/3110 [==============================] - 7s 2ms/step - loss: 0.6883 - accuracy: 0.2894 - val_loss: 0.7171 - val_accuracy: 0.2909\n",
      "Epoch 63/100\n",
      "3110/3110 [==============================] - 6s 2ms/step - loss: 0.6991 - accuracy: 0.2896 - val_loss: 0.7171 - val_accuracy: 0.2918\n",
      "Epoch 64/100\n",
      "3110/3110 [==============================] - 6s 2ms/step - loss: 0.6980 - accuracy: 0.2899 - val_loss: 0.7169 - val_accuracy: 0.2919\n",
      "Epoch 65/100\n",
      "3110/3110 [==============================] - 6s 2ms/step - loss: 0.6844 - accuracy: 0.2901 - val_loss: 0.7172 - val_accuracy: 0.2924\n",
      "Epoch 66/100\n",
      "3110/3110 [==============================] - 6s 2ms/step - loss: 0.6902 - accuracy: 0.2896 - val_loss: 0.7171 - val_accuracy: 0.2932\n",
      "Epoch 67/100\n",
      "3110/3110 [==============================] - 6s 2ms/step - loss: 0.6851 - accuracy: 0.2920 - val_loss: 0.7174 - val_accuracy: 0.2920\n",
      "Epoch 68/100\n",
      "3110/3110 [==============================] - 6s 2ms/step - loss: 0.6895 - accuracy: 0.2897 - val_loss: 0.7172 - val_accuracy: 0.2919\n",
      "Epoch 69/100\n",
      "3110/3110 [==============================] - 6s 2ms/step - loss: 0.6949 - accuracy: 0.2904 - val_loss: 0.7171 - val_accuracy: 0.2931\n",
      "Epoch 70/100\n",
      "3110/3110 [==============================] - 6s 2ms/step - loss: 0.6848 - accuracy: 0.2929 - val_loss: 0.7173 - val_accuracy: 0.2920\n",
      "Epoch 71/100\n",
      "3110/3110 [==============================] - 6s 2ms/step - loss: 0.6970 - accuracy: 0.2897 - val_loss: 0.7185 - val_accuracy: 0.2954\n",
      "Epoch 72/100\n",
      "3110/3110 [==============================] - 6s 2ms/step - loss: 0.6892 - accuracy: 0.2904 - val_loss: 0.7170 - val_accuracy: 0.2924\n",
      "Epoch 73/100\n",
      "3110/3110 [==============================] - 6s 2ms/step - loss: 0.6960 - accuracy: 0.2898 - val_loss: 0.7170 - val_accuracy: 0.2930\n",
      "Epoch 74/100\n",
      "3110/3110 [==============================] - 7s 2ms/step - loss: 0.6973 - accuracy: 0.2919 - val_loss: 0.7168 - val_accuracy: 0.2914\n",
      "Epoch 75/100\n",
      "3110/3110 [==============================] - 6s 2ms/step - loss: 0.7003 - accuracy: 0.2901 - val_loss: 0.7167 - val_accuracy: 0.2918\n",
      "Epoch 76/100\n",
      "3110/3110 [==============================] - 7s 2ms/step - loss: 0.7265 - accuracy: 0.2923 - val_loss: 0.7167 - val_accuracy: 0.2933\n",
      "Epoch 77/100\n",
      "3110/3110 [==============================] - 6s 2ms/step - loss: 0.6901 - accuracy: 0.2905 - val_loss: 0.7170 - val_accuracy: 0.2914\n",
      "Epoch 78/100\n",
      "3110/3110 [==============================] - 6s 2ms/step - loss: 0.7012 - accuracy: 0.2911 - val_loss: 0.7171 - val_accuracy: 0.2916\n",
      "Epoch 79/100\n",
      "3110/3110 [==============================] - 6s 2ms/step - loss: 0.6977 - accuracy: 0.2903 - val_loss: 0.7170 - val_accuracy: 0.2916\n",
      "Epoch 80/100\n",
      "3110/3110 [==============================] - 6s 2ms/step - loss: 0.6988 - accuracy: 0.2898 - val_loss: 0.7171 - val_accuracy: 0.2908\n",
      "Epoch 81/100\n",
      "3110/3110 [==============================] - 6s 2ms/step - loss: 0.6858 - accuracy: 0.2897 - val_loss: 0.7174 - val_accuracy: 0.2916\n",
      "Epoch 82/100\n",
      "3110/3110 [==============================] - 6s 2ms/step - loss: 0.7009 - accuracy: 0.2908 - val_loss: 0.7171 - val_accuracy: 0.2919\n",
      "Epoch 83/100\n",
      "3110/3110 [==============================] - 6s 2ms/step - loss: 0.6836 - accuracy: 0.2907 - val_loss: 0.7171 - val_accuracy: 0.2921\n",
      "Epoch 84/100\n",
      "3110/3110 [==============================] - 6s 2ms/step - loss: 0.6949 - accuracy: 0.2904 - val_loss: 0.7171 - val_accuracy: 0.2921\n",
      "Epoch 85/100\n",
      "3110/3110 [==============================] - 6s 2ms/step - loss: 0.7006 - accuracy: 0.2904 - val_loss: 0.7170 - val_accuracy: 0.2900\n",
      "Epoch 86/100\n",
      "3110/3110 [==============================] - 6s 2ms/step - loss: 0.7022 - accuracy: 0.2909 - val_loss: 0.7170 - val_accuracy: 0.2915\n",
      "Epoch 87/100\n",
      "3110/3110 [==============================] - 6s 2ms/step - loss: 0.6806 - accuracy: 0.2900 - val_loss: 0.7173 - val_accuracy: 0.2916\n",
      "Epoch 88/100\n",
      "3110/3110 [==============================] - 6s 2ms/step - loss: 0.6815 - accuracy: 0.2906 - val_loss: 0.7173 - val_accuracy: 0.2922\n",
      "Epoch 89/100\n",
      "3110/3110 [==============================] - 6s 2ms/step - loss: 0.7092 - accuracy: 0.2921 - val_loss: 0.7173 - val_accuracy: 0.2910\n",
      "Epoch 90/100\n",
      "3110/3110 [==============================] - 6s 2ms/step - loss: 0.6929 - accuracy: 0.2915 - val_loss: 0.7171 - val_accuracy: 0.2911\n",
      "Epoch 91/100\n",
      "3110/3110 [==============================] - 6s 2ms/step - loss: 0.6856 - accuracy: 0.2882 - val_loss: 0.7171 - val_accuracy: 0.2906\n",
      "Epoch 92/100\n",
      "3110/3110 [==============================] - 6s 2ms/step - loss: 0.6904 - accuracy: 0.2898 - val_loss: 0.7175 - val_accuracy: 0.2915\n",
      "Epoch 93/100\n",
      "3110/3110 [==============================] - 6s 2ms/step - loss: 0.6798 - accuracy: 0.2930 - val_loss: 0.7173 - val_accuracy: 0.2906\n",
      "Epoch 94/100\n",
      "3110/3110 [==============================] - 6s 2ms/step - loss: 0.6903 - accuracy: 0.2906 - val_loss: 0.7171 - val_accuracy: 0.2919\n",
      "Epoch 95/100\n",
      "3110/3110 [==============================] - 6s 2ms/step - loss: 0.6827 - accuracy: 0.2908 - val_loss: 0.7171 - val_accuracy: 0.2917\n",
      "Epoch 96/100\n",
      "3110/3110 [==============================] - 6s 2ms/step - loss: 0.6937 - accuracy: 0.2925 - val_loss: 0.7171 - val_accuracy: 0.2924\n",
      "Epoch 97/100\n",
      "3110/3110 [==============================] - 6s 2ms/step - loss: 0.6879 - accuracy: 0.2929 - val_loss: 0.7172 - val_accuracy: 0.2914\n",
      "Epoch 98/100\n",
      "3110/3110 [==============================] - 6s 2ms/step - loss: 0.6864 - accuracy: 0.2912 - val_loss: 0.7171 - val_accuracy: 0.2921\n",
      "Epoch 99/100\n",
      "3110/3110 [==============================] - 6s 2ms/step - loss: 0.6885 - accuracy: 0.2900 - val_loss: 0.7175 - val_accuracy: 0.2921\n",
      "Epoch 100/100\n",
      "3110/3110 [==============================] - 6s 2ms/step - loss: 0.6830 - accuracy: 0.2904 - val_loss: 0.7173 - val_accuracy: 0.2913\n"
     ]
    }
   ],
   "source": [
    "SeqMod = model.fit(x_train, x_train,\n",
    "                    epochs=100,\n",
    "                    batch_size=64,\n",
    "                    shuffle=True,\n",
    "                    validation_data=(x_test, x_test),\n",
    "                    verbose=1)"
   ]
  },
  {
   "cell_type": "markdown",
   "metadata": {
    "id": "2_x7JUCqneaM"
   },
   "source": [
    "Plot loss vs epochs for train and validation"
   ]
  },
  {
   "cell_type": "code",
   "execution_count": 50,
   "metadata": {
    "colab": {
     "base_uri": "https://localhost:8080/",
     "height": 282
    },
    "id": "YyYxs2vVneaM",
    "outputId": "2bd15dc4-27f1-43aa-93b4-93a4dfe21229"
   },
   "outputs": [
    {
     "data": {
      "text/plain": [
       "[<matplotlib.lines.Line2D at 0x7f7766970160>]"
      ]
     },
     "execution_count": 50,
     "metadata": {
      "tags": []
     },
     "output_type": "execute_result"
    },
    {
     "data": {
      "image/png": "[encoded data removed]",
      "text/plain": [
       "<Figure size 432x288 with 1 Axes>"
      ]
     },
     "metadata": {
      "needs_background": "light",
      "tags": []
     },
     "output_type": "display_data"
    }
   ],
   "source": [
    "train_loss = SeqMod.history['loss']\n",
    "val_loss = SeqMod.history['val_loss']\n",
    "plt.figure()\n",
    "plt.plot(train_loss)\n",
    "plt.plot(val_loss)"
   ]
  },
  {
   "cell_type": "markdown",
   "metadata": {
    "id": "7DaUD3OtneaN"
   },
   "source": [
    "Predict the test data"
   ]
  },
  {
   "cell_type": "code",
   "execution_count": 51,
   "metadata": {
    "colab": {
     "base_uri": "https://localhost:8080/",
     "height": 399
    },
    "id": "cjHRRpD-neaN",
    "outputId": "44517013-0e8b-40a8-86c9-5de60a0ac522"
   },
   "outputs": [
    {
     "name": "stdout",
     "output_type": "stream",
     "text": [
      "        Reconstruction_error  True_class\n",
      "73129               0.235174           0\n",
      "229597              0.361507           0\n",
      "220218              0.274601           0\n",
      "198374              0.828073           0\n",
      "167980              0.428560           0\n"
     ]
    },
    {
     "data": {
      "text/html": [
       "<div>\n",
       "<style scoped>\n",
       "    .dataframe tbody tr th:only-of-type {\n",
       "        vertical-align: middle;\n",
       "    }\n",
       "\n",
       "    .dataframe tbody tr th {\n",
       "        vertical-align: top;\n",
       "    }\n",
       "\n",
       "    .dataframe thead th {\n",
       "        text-align: right;\n",
       "    }\n",
       "</style>\n",
       "<table border=\"1\" class=\"dataframe\">\n",
       "  <thead>\n",
       "    <tr style=\"text-align: right;\">\n",
       "      <th></th>\n",
       "      <th>Reconstruction_error</th>\n",
       "      <th>True_class</th>\n",
       "    </tr>\n",
       "  </thead>\n",
       "  <tbody>\n",
       "    <tr>\n",
       "      <th>count</th>\n",
       "      <td>85443.000000</td>\n",
       "      <td>85443.000000</td>\n",
       "    </tr>\n",
       "    <tr>\n",
       "      <th>mean</th>\n",
       "      <td>0.717349</td>\n",
       "      <td>0.001873</td>\n",
       "    </tr>\n",
       "    <tr>\n",
       "      <th>std</th>\n",
       "      <td>2.992815</td>\n",
       "      <td>0.043233</td>\n",
       "    </tr>\n",
       "    <tr>\n",
       "      <th>min</th>\n",
       "      <td>0.055115</td>\n",
       "      <td>0.000000</td>\n",
       "    </tr>\n",
       "    <tr>\n",
       "      <th>25%</th>\n",
       "      <td>0.271491</td>\n",
       "      <td>0.000000</td>\n",
       "    </tr>\n",
       "    <tr>\n",
       "      <th>50%</th>\n",
       "      <td>0.406153</td>\n",
       "      <td>0.000000</td>\n",
       "    </tr>\n",
       "    <tr>\n",
       "      <th>75%</th>\n",
       "      <td>0.634337</td>\n",
       "      <td>0.000000</td>\n",
       "    </tr>\n",
       "    <tr>\n",
       "      <th>max</th>\n",
       "      <td>259.750146</td>\n",
       "      <td>1.000000</td>\n",
       "    </tr>\n",
       "  </tbody>\n",
       "</table>\n",
       "</div>"
      ],
      "text/plain": [
       "       Reconstruction_error    True_class\n",
       "count          85443.000000  85443.000000\n",
       "mean               0.717349      0.001873\n",
       "std                2.992815      0.043233\n",
       "min                0.055115      0.000000\n",
       "25%                0.271491      0.000000\n",
       "50%                0.406153      0.000000\n",
       "75%                0.634337      0.000000\n",
       "max              259.750146      1.000000"
      ]
     },
     "execution_count": 51,
     "metadata": {
      "tags": []
     },
     "output_type": "execute_result"
    }
   ],
   "source": [
    "x_pred = model.predict(x_test)\n",
    "Reconstruction_error = np.mean(np.power(x_test - x_pred, 2), axis=1)\n",
    "True_class = y_test\n",
    "df2 = pd.DataFrame(data={'Reconstruction_error': Reconstruction_error, 'True_class': True_class})\n",
    "print(df2.head())\n",
    "df2.describe()"
   ]
  },
  {
   "cell_type": "code",
   "execution_count": 59,
   "metadata": {
    "colab": {
     "base_uri": "https://localhost:8080/",
     "height": 295
    },
    "id": "DoSEhVpsFVF_",
    "outputId": "59992269-a5c6-4120-c965-f2718aaf25ec"
   },
   "outputs": [
    {
     "data": {
      "image/png": "[encoded data removed]",
      "text/plain": [
       "<Figure size 432x288 with 1 Axes>"
      ]
     },
     "metadata": {
      "needs_background": "light",
      "tags": []
     },
     "output_type": "display_data"
    }
   ],
   "source": [
    "threshold_fixed = 5\n",
    "groups = df2.groupby('True_class')\n",
    "fig, ax = plt.subplots()\n",
    "\n",
    "for name, group in groups:\n",
    "    ax.plot(group.index, group.Reconstruction_error, marker='o', linestyle='',\n",
    "            label= \"Fraud\" if name == 1 else \"Normal\")\n",
    "ax.hlines(threshold_fixed, ax.get_xlim()[0], ax.get_xlim()[1], colors=\"r\", zorder=100, label='Threshold')\n",
    "ax.legend()\n",
    "plt.title(\"Reconstruction error for different classes\")\n",
    "plt.ylabel(\"Reconstruction error\")\n",
    "plt.xlabel(\"Data point index\")\n",
    "plt.show()"
   ]
  },
  {
   "cell_type": "code",
   "execution_count": 60,
   "metadata": {
    "colab": {
     "base_uri": "https://localhost:8080/",
     "height": 730
    },
    "id": "rTGfXlXzFgWl",
    "outputId": "8f63f1bb-ceee-4775-f152-f17f1939031a"
   },
   "outputs": [
    {
     "data": {
      "image/png": "[encoded data removed]",
      "text/plain": [
       "<Figure size 864x864 with 2 Axes>"
      ]
     },
     "metadata": {
      "needs_background": "light",
      "tags": []
     },
     "output_type": "display_data"
    }
   ],
   "source": [
    "threshold_fixed = 5\n",
    "pred_y1 = [1 if e > threshold_fixed else 0 for e in df2.Reconstruction_error.values]\n",
    "\n",
    "conf_matrix1 = confusion_matrix(df2.True_class, pred_y1)\n",
    "\n",
    "plt.figure(figsize=(12, 12))\n",
    "sns.heatmap(conf_matrix1, annot=True, fmt=\"d\");\n",
    "plt.title(\"Confusion matrix for K=5\")\n",
    "plt.ylabel('True class')\n",
    "plt.xlabel('Predicted class')\n",
    "plt.show()"
   ]
  },
  {
   "cell_type": "markdown",
   "metadata": {
    "id": "k_m8TIJi__I1"
   },
   "source": [
    "Based on the output, the model can capture 60% (96/160) of fraudulent transactions and 98% (84399/85283) of normal transactions. It means that we cannot capture enough fraudulent transactions so we will reduce K."
   ]
  },
  {
   "cell_type": "code",
   "execution_count": 61,
   "metadata": {
    "colab": {
     "base_uri": "https://localhost:8080/",
     "height": 730
    },
    "id": "wsBkOua94BfZ",
    "outputId": "4d309d03-738d-4fd8-813c-f9d4212de5ba"
   },
   "outputs": [
    {
     "data": {
      "image/png": "[encoded data removed]",
      "text/plain": [
       "<Figure size 864x864 with 2 Axes>"
      ]
     },
     "metadata": {
      "needs_background": "light",
      "tags": []
     },
     "output_type": "display_data"
    }
   ],
   "source": [
    "threshold_fixed = 3\n",
    "pred_y2 = [1 if e > threshold_fixed else 0 for e in df2.Reconstruction_error.values]\n",
    "\n",
    "conf_matrix2 = confusion_matrix(df2.True_class, pred_y2)\n",
    "\n",
    "plt.figure(figsize=(12, 12))\n",
    "sns.heatmap(conf_matrix2, annot=True, fmt=\"d\");\n",
    "plt.title(\"Confusion matrix for K=3\")\n",
    "plt.ylabel('True class')\n",
    "plt.xlabel('Predicted class')\n",
    "plt.show()"
   ]
  },
  {
   "cell_type": "markdown",
   "metadata": {
    "id": "5jFvxo5eAAYz"
   },
   "source": [
    "Now, the model can capture 78% (1266/160) of fraudulent transactions and 98% (83682/85283) of normal transactions. So the model works well."
   ]
  }
 ],
 "metadata": {
  "colab": {
   "name": "fraud_detection_autoencoder_assignment.ipynb",
   "provenance": []
  },
  "kernelspec": {
   "display_name": "Python 3",
   "language": "python",
   "name": "python3"
  },
  "language_info": {
   "codemirror_mode": {
    "name": "ipython",
    "version": 3
   },
   "file_extension": ".py",
   "mimetype": "text/x-python",
   "name": "python",
   "nbconvert_exporter": "python",
   "pygments_lexer": "ipython3",
   "version": "3.7.4"
  }
 },
 "nbformat": 4,
 "nbformat_minor": 1
}
